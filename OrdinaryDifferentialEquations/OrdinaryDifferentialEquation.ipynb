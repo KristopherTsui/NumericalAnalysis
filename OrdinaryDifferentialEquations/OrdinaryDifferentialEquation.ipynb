{
 "cells": [
  {
   "cell_type": "markdown",
   "metadata": {},
   "source": [
    "# 常微分方程处置问题的数值解法"
   ]
  },
  {
   "cell_type": "code",
   "execution_count": 1,
   "metadata": {},
   "outputs": [],
   "source": [
    "import numpy as np\n",
    "import matplotlib.pyplot as plt"
   ]
  },
  {
   "cell_type": "code",
   "execution_count": 2,
   "metadata": {},
   "outputs": [],
   "source": [
    "# Split\n",
    "def Split(a, b, h):\n",
    "    \"\"\"\n",
    "    a: the left endpoint of the inteval\n",
    "    b: the right endpoint of the inteval\n",
    "    h: step\n",
    "    \"\"\"\n",
    "    n = int((b - a)/h)\n",
    "    t = np.linspace(a, b, n+1)\n",
    "    return t"
   ]
  },
  {
   "cell_type": "markdown",
   "metadata": {},
   "source": [
    "## 显式Euler法"
   ]
  },
  {
   "cell_type": "code",
   "execution_count": 3,
   "metadata": {},
   "outputs": [],
   "source": [
    "# Explicit Euler Method\n",
    "def ExplicitEulerMethod(t, func, ini):\n",
    "    \"\"\"\n",
    "    t: ndarray, the split of the inteval\n",
    "    func: y' = f(t, y)\n",
    "    ini: the initial value for the IVP\n",
    "    \"\"\"\n",
    "    n = len(t)\n",
    "    h = t[1] - t[0]\n",
    "    y = np.zeros(n)\n",
    "    y[0] = ini\n",
    "    for i in range(1, n):\n",
    "        y[i] = y[i-1] + h*f(t[i-1], y[i-1])\n",
    "    return y"
   ]
  },
  {
   "cell_type": "markdown",
   "metadata": {},
   "source": [
    "## 隐式Euler方法"
   ]
  },
  {
   "cell_type": "code",
   "execution_count": 4,
   "metadata": {},
   "outputs": [],
   "source": [
    "# Implict Euler Method\n",
    "def ImplictEulerMethod(t, func, ini, tol):\n",
    "    \"\"\"\n",
    "    t: ndarray, the split of the inteval\n",
    "    func: y' = f(t, y)\n",
    "    ini: the initial value for IVP\n",
    "    tol: iteration accuracy\n",
    "    \"\"\"\n",
    "    n = len(t)\n",
    "    h = t[1] - t[0]\n",
    "    y = np.zeros(n)\n",
    "    y[0] = ini\n",
    "    for i in range(1, n):\n",
    "        y0 = y[i-1] + h*func(t[i-1], y[i-1])\n",
    "        y1 = y[i-1] + h*func(t[i-1], y0)\n",
    "        while np.abs(y1 - y0) >= tol:\n",
    "            y0 = y1\n",
    "            y1 = y[i-1] + h*func(t[i-1], y0)\n",
    "        y[i] = y1\n",
    "    return y"
   ]
  },
  {
   "cell_type": "markdown",
   "metadata": {},
   "source": [
    "## 梯形方法"
   ]
  },
  {
   "cell_type": "code",
   "execution_count": 5,
   "metadata": {},
   "outputs": [],
   "source": [
    "# 梯形方法\n",
    "def TrapezoidalMethod(t, func, ini, tol):\n",
    "    \"\"\"\n",
    "    t: ndarray, the split of the inteval\n",
    "    func: y' = f(t, y)\n",
    "    ini: the initial value for IVP\n",
    "    tol: iteration accuracy\n",
    "    \"\"\"\n",
    "    n = len(t)\n",
    "    h = t[1] - t[0]\n",
    "    y = np.zeros(n)\n",
    "    y[0] = ini\n",
    "    for i in range(1, n):\n",
    "        y0 = y[i-1] + h*func(t[i-1], y[i-1])\n",
    "        y1 = y[i-1] + h*(func(t[i], y0) + func(t[i-1], y[i-1]))/2\n",
    "        while np.abs(y1 - y0) >= tol:\n",
    "            y0 = y1\n",
    "            y1 = y[i-1] + h*(func(t[i], y0) + func(t[i-1], y[i-1]))/2\n",
    "        y[i] = y1\n",
    "    return y"
   ]
  },
  {
   "cell_type": "markdown",
   "metadata": {},
   "source": [
    "## 改进的Euler方法"
   ]
  },
  {
   "cell_type": "code",
   "execution_count": 6,
   "metadata": {},
   "outputs": [],
   "source": [
    "# Improved Euler Method\n",
    "def ImprovedEulerMethod(t, func, ini):\n",
    "    \"\"\"\n",
    "    t: ndarray, the split of the inteval\n",
    "    func: y' = f(t, y)\n",
    "    ini: the initial value for the IVP\n",
    "    \"\"\"\n",
    "    n = len(t)\n",
    "    h = t[1] - t[0]\n",
    "    y = np.zeros(n)\n",
    "    y[0] = ini\n",
    "    for i in range(1, n):\n",
    "        y0 = y[i-1] + h*func(t[i-1], y[i-1])\n",
    "        y[i] = y[i-1] + h/2*(func(t[i-1], y[i-1]) + func(t[i], y0))\n",
    "    return y"
   ]
  },
  {
   "cell_type": "markdown",
   "metadata": {},
   "source": [
    "## Runge-Kutta Method"
   ]
  },
  {
   "cell_type": "code",
   "execution_count": 7,
   "metadata": {},
   "outputs": [],
   "source": [
    "# Midpoint Formula\n",
    "def MidpointFormula(t, func, ini):\n",
    "    \"\"\"\n",
    "    t: ndarray, the split of the inteval\n",
    "    func: y' = f(t, y)\n",
    "    ini: the initial value for the IVP\n",
    "    \"\"\"\n",
    "    n = len(t)\n",
    "    h = t[1] - t[0]\n",
    "    y = np.zeros(n)\n",
    "    y[0] = ini\n",
    "    for i in range(1, n):\n",
    "        y[i] = y[i-1] + h*func(t[i-1] + h/2, y[i-1] + h/2*func(t[i-1], y[i-1]))\n",
    "    return y"
   ]
  },
  {
   "cell_type": "code",
   "execution_count": 8,
   "metadata": {},
   "outputs": [],
   "source": [
    "# 4-th Order Classic Runge-Kutta Method\n",
    "def ClassicRungeKutta(t, func, ini):\n",
    "    \"\"\"\n",
    "    t: ndarray, the split of the inteval\n",
    "    func: y' = f(t, y)\n",
    "    ini: the initial value for IVP\n",
    "    \"\"\"\n",
    "    n = len(t)\n",
    "    h = t[1] - t[0]\n",
    "    y = np.zeros(n)\n",
    "    y[0] = ini\n",
    "    C = np.array([0, 1/2, 1/2, 1])\n",
    "    B = np.array([1/6, 1/3, 1/3 ,1/6])\n",
    "    A = np.diag([1/2, 1/2, 1], k=-1)\n",
    "    for i in range(1, n):\n",
    "        k = np.zeros(4)\n",
    "        for j in range(4):\n",
    "            y_step = 0\n",
    "            for m in range(4):\n",
    "                y_step += A[j, m]*k[m]\n",
    "            k[j] = func(t[i-1] + C[j]*h, y[i-1] + h*y_step)\n",
    "        phi = 0\n",
    "        for j in range(4):\n",
    "            phi += B[j]*k[j]\n",
    "        y[i] = y[i-1] + h*phi\n",
    "    return y"
   ]
  },
  {
   "cell_type": "markdown",
   "metadata": {},
   "source": [
    "例 用显式Euler方法解处置问题 \n",
    "\n",
    "$$\n",
    "\\begin{cases}\n",
    "y' = -y(x) \\\\\n",
    "y(0) = 1\n",
    "\\end{cases}\n",
    "$$\n",
    "\n",
    "取$h=0.1$，从$x=0$计算到$5.0$"
   ]
  },
  {
   "cell_type": "code",
   "execution_count": 9,
   "metadata": {},
   "outputs": [
    {
     "data": {
      "image/png": "[encoded data removed]",
      "text/plain": [
       "<Figure size 360x360 with 1 Axes>"
      ]
     },
     "metadata": {
      "needs_background": "light"
     },
     "output_type": "display_data"
    }
   ],
   "source": [
    "# define f(t, y)\n",
    "def f(t, y):\n",
    "    return -1*y\n",
    "\n",
    "\n",
    "a, b, h, ini = 0, 5, 0.1, 1\n",
    "x = Split(a, b, h)\n",
    "y1 = ExplicitEulerMethod(x, f, ini)\n",
    "# the actual solution\n",
    "y = np.exp(-1*x)\n",
    "plt.figure(figsize=(5, 5))\n",
    "plt.plot(x, y1, 'b:', label=\"Explicit Euler Method\")\n",
    "plt.plot(x, y, 'r-', label=\"$y=e^{-x}$\")\n",
    "plt.title(\"The Explicit Euler Method vs. Actual Solution\")\n",
    "plt.legend()\n",
    "plt.xlabel('x')\n",
    "plt.ylabel('y')\n",
    "plt.xlim(a, b)\n",
    "plt.show()"
   ]
  },
  {
   "cell_type": "markdown",
   "metadata": {},
   "source": [
    "用显式Euler方法和梯形方法解微分方程初值问题\n",
    "$$\n",
    "\\begin{cases}\n",
    "y'(x) = -y + x + 1, \\\\\n",
    "y(0) = 1.\n",
    "\\end{cases}\n",
    "$$\n",
    "取$h=0.1$，从$x=0$计算到$x=0.5$."
   ]
  },
  {
   "cell_type": "code",
   "execution_count": 10,
   "metadata": {},
   "outputs": [
    {
     "name": "stdout",
     "output_type": "stream",
     "text": [
      "0.0\t1.000000\t1.000000\t1.000000\n",
      "0.1\t1.000000\t1.004762\t1.004837\n",
      "0.2\t1.010000\t1.018594\t1.018731\n",
      "0.3\t1.029000\t1.040633\t1.040818\n",
      "0.4\t1.056100\t1.070097\t1.070320\n",
      "0.5\t1.090490\t1.106278\t1.106531\n"
     ]
    }
   ],
   "source": [
    "# define f(x, y)\n",
    "def f(x, y):\n",
    "    return -1*y + x + 1\n",
    "\n",
    "\n",
    "a, b, h, ini = 0, 0.5, 0.1, 1\n",
    "x = Split(a, b, h)\n",
    "y1 = ExplicitEulerMethod(x, f, ini)\n",
    "# 对于本题来说使用梯形方法得到的方程是一个线性方程，不需要迭代即可求解\n",
    "# 但我们编写的是一个一般情况下的程序，所以给出了迭代精度\n",
    "\n",
    "y2 = TrapezoidalMethod(x, f, ini, 1e-5)\n",
    "# The actual solution is y = exp(-x) + x\n",
    "y = np.exp(-x) + x\n",
    "for item in zip(x, y1, y2, y):\n",
    "    print(f\"{item[0]:.1f}\\t{item[1]:.6f}\\t{item[2]:.6f}\\t{item[3]:.6f}\")"
   ]
  },
  {
   "cell_type": "markdown",
   "metadata": {},
   "source": [
    "用显式Euler方法和改进的Euler方法来计算初值问题\n",
    "$$\n",
    "\\begin{cases}\n",
    "y'(x) = y(x) - x^2 + 1, \\\\\n",
    "y(0) = \\frac{1}{2}.\n",
    "\\end{cases}\n",
    "$$\n",
    "取$h=0.2$，从$x=0$计算到$x=2$."
   ]
  },
  {
   "cell_type": "code",
   "execution_count": 11,
   "metadata": {},
   "outputs": [
    {
     "name": "stdout",
     "output_type": "stream",
     "text": [
      "0.0\t0.5000000\t0.5000000\t0.5000000\n",
      "0.2\t0.8000000\t0.8260000\t0.8292986\n",
      "0.4\t1.1520000\t1.2069200\t1.2140877\n",
      "0.6\t1.5504000\t1.6372424\t1.6489406\n",
      "0.8\t1.9884800\t2.1102357\t2.1272295\n",
      "1.0\t2.4581760\t2.6176876\t2.6408591\n",
      "1.2\t2.9498112\t3.1495789\t3.1799415\n",
      "1.4\t3.4517734\t3.6936862\t3.7324000\n",
      "1.6\t3.9501281\t4.2350972\t4.2834838\n",
      "1.8\t4.4281538\t4.7556185\t4.8151763\n",
      "2.0\t4.8657845\t5.2330546\t5.3054720\n"
     ]
    }
   ],
   "source": [
    "# define f(x, y)\n",
    "def f(x, y):\n",
    "    return y - x**2 + 1\n",
    "\n",
    "\n",
    "a, b, h, ini = 0, 2, 0.2, 1/2\n",
    "x = Split(a, b, h)\n",
    "y1 = ExplicitEulerMethod(x, f, ini)\n",
    "y2 = ImprovedEulerMethod(x, f, ini)\n",
    "# the actual solution y = (1 + x)^2 - \\frac{1}{2}e^x\n",
    "y = (1 + x)**2 - np.exp(x)/2\n",
    "for item in zip(x, y1, y2, y):\n",
    "    print(f\"{item[0]:.1f}\\t{item[1]:.7f}\\t{item[2]:.7f}\\t{item[3]:.7f}\")"
   ]
  },
  {
   "cell_type": "markdown",
   "metadata": {},
   "source": [
    "用改进的Euler方法及中点公式计算初值问题\n",
    "$$\n",
    "\\begin{cases}\n",
    "y'(x) = 1 + \\frac{1}{x}y,\\; x\\in(1,2], \\\\\n",
    "y(1) = 2\n",
    "\\end{cases}\n",
    "$$\n",
    "的近似解，并与初值问题准确解作比较. 取$h=0.25$. 初值问题的准确解为$y(x)=x\\ln x + 2x$."
   ]
  },
  {
   "cell_type": "code",
   "execution_count": 12,
   "metadata": {},
   "outputs": [
    {
     "name": "stdout",
     "output_type": "stream",
     "text": [
      "1.00\t2.0000000\t2.0000000\t2.0000000\t2.0000000\n",
      "1.25\t2.7789294\t2.7750000\t2.7777778\t2.7789095\n",
      "1.50\t3.6081977\t3.6008333\t3.6060606\t3.6081647\n",
      "1.75\t4.4793276\t4.4688294\t4.4763015\t4.4792846\n",
      "2.00\t5.3862944\t5.3728586\t5.3824398\t5.3862426\n"
     ]
    }
   ],
   "source": [
    "# define f(x, y)\n",
    "def f(x, y):\n",
    "    return 1 + y/x\n",
    "\n",
    "\n",
    "a, b, h, ini = 1, 2, 0.25, 2\n",
    "x = Split(a, b, h)\n",
    "y1 = ImprovedEulerMethod(x, f, ini)\n",
    "y2 = MidpointFormula(x, f, ini)\n",
    "y3 = ClassicRungeKutta(x, f, ini)\n",
    "y = x * np.log(x) + 2*x\n",
    "for item in zip(x, y, y1, y2, y3):\n",
    "    print(f\"{item[0]:.2f}\\t{item[1]:.7f}\\t{item[2]:.7f}\\t{item[3]:.7f}\\t{item[4]:.7f}\")"
   ]
  },
  {
   "cell_type": "code",
   "execution_count": null,
   "metadata": {},
   "outputs": [],
   "source": []
  }
 ],
 "metadata": {
  "kernelspec": {
   "display_name": "Python 3",
   "language": "python",
   "name": "python3"
  },
  "language_info": {
   "codemirror_mode": {
    "name": "ipython",
    "version": 3
   },
   "file_extension": ".py",
   "mimetype": "text/x-python",
   "name": "python",
   "nbconvert_exporter": "python",
   "pygments_lexer": "ipython3",
   "version": "3.6.8"
  }
 },
 "nbformat": 4,
 "nbformat_minor": 4
}
